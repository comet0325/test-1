{
 "cells": [
  {
   "cell_type": "code",
   "execution_count": 80,
   "id": "c1ca84be",
   "metadata": {},
   "outputs": [],
   "source": [
    "import pandas as pd\n",
    "import sklearn\n",
    "import numpy as np\n",
    "from sklearn.model_selection import train_test_split\n",
    "from sklearn.ensemble import RandomForestClassifier\n",
    "from sklearn.tree import DecisionTreeClassifier\n",
    "from sklearn import preprocessing\n",
    "from sklearn.preprocessing import StandardScaler\n",
    "from sklearn import utils\n",
    "from sklearn.svm import SVC\n",
    "from sklearn.pipeline import Pipeline"
   ]
  },
  {
   "cell_type": "code",
   "execution_count": 23,
   "id": "8c341791",
   "metadata": {},
   "outputs": [],
   "source": [
    "def sort_dataset(dataset_df):\n",
    "    sorted_dataset = dataset_df.sort_values(by='year')\n",
    "    return sorted_dataset"
   ]
  },
  {
   "cell_type": "code",
   "execution_count": 68,
   "id": "ac61a2f3",
   "metadata": {},
   "outputs": [],
   "source": [
    "def split_dataset(dataset_df):\n",
    "    target = dataset_df['salary'] * 0.001\n",
    "    data = dataset_df.drop('salary', axis='columns')\n",
    "    \n",
    "    X_train = data[:1718]\n",
    "    X_test = data[1718:]\n",
    "    Y_train = target[:1718]\n",
    "    Y_test = target[1718:]\n",
    "    \n",
    "    return X_train, X_test, Y_train, Y_test\n",
    "    "
   ]
  },
  {
   "cell_type": "code",
   "execution_count": 69,
   "id": "3bdaa156",
   "metadata": {},
   "outputs": [],
   "source": [
    "def extract_numerical_cols(dataset_df):\n",
    "    extracted_dataset = dataset_df.drop(['batter_name', 'TB', 'GB', 'BU', 'year', 'year_born', 'hand2', 'cp', \n",
    "                                        'tp', '1B', 'FBP', 'avg', 'OBP', 'SLG', 'OPS', 'p_year', 'YAB', 'YOPS'], axis='columns')\n",
    "    \n",
    "    return extracted_dataset"
   ]
  },
  {
   "cell_type": "code",
   "execution_count": 70,
   "id": "f3d85a01",
   "metadata": {},
   "outputs": [],
   "source": [
    "def train_predict_decision_tree(X_train, Y_train, X_test):\n",
    "    dt_cls = DecisionTreeClassifier()    \n",
    "    lab = preprocessing.LabelEncoder()\n",
    "    transformed_Y_train = lab.fit_transform(Y_train)\n",
    "    dt_cls.fit(X_train, transformed_Y_train)\n",
    "    \n",
    "    return dt_cls.predict(X_test)"
   ]
  },
  {
   "cell_type": "code",
   "execution_count": 76,
   "id": "31203f45",
   "metadata": {},
   "outputs": [],
   "source": [
    "def train_predict_random_forest(X_train, Y_train, X_test):\n",
    "    dt_cls = RandomForestClassifier()    \n",
    "    lab = preprocessing.LabelEncoder()\n",
    "    transformed_Y_train = lab.fit_transform(Y_train)\n",
    "    dt_cls.fit(X_train, transformed_Y_train)\n",
    "    \n",
    "    return dt_cls.predict(X_test)"
   ]
  },
  {
   "cell_type": "code",
   "execution_count": 85,
   "id": "81ae0b2d",
   "metadata": {},
   "outputs": [],
   "source": [
    "def train_predict_svm(X_train, Y_train, X_test):\n",
    "    svm_pipe = Pipeline([('scaler', StandardScaler()), ('svm', SVC())])\n",
    "    lab = preprocessing.LabelEncoder()\n",
    "    transformed_Y_train = lab.fit_transform(Y_train)\n",
    "    svm_pipe.fit(X_train, transformed_Y_train)\n",
    "    \n",
    "    return svm_pipe.predict(X_test)"
   ]
  },
  {
   "cell_type": "code",
   "execution_count": 89,
   "id": "305312a7",
   "metadata": {},
   "outputs": [],
   "source": [
    "def calculate_RMSE(labels, predictions):\n",
    "    return np.sqrt(np.mean((predictions - labels)**2))"
   ]
  },
  {
   "cell_type": "code",
   "execution_count": 91,
   "id": "4eb170e1",
   "metadata": {},
   "outputs": [
    {
     "name": "stdout",
     "output_type": "stream",
     "text": [
      "Decision Tree Test RMSE:  50.03821616447849\n",
      "Random Forest Test RMSE:  45.9659573028696\n",
      "SVM Test RMSE:  40.146354051018676\n"
     ]
    }
   ],
   "source": [
    "if __name__=='__main__':\n",
    "\t#DO NOT MODIFY THIS FUNCTION UNLESS PATH TO THE CSV MUST BE CHANGED.\n",
    "\tdata_df = pd.read_csv('2019_kbo_for_kaggle_v2.csv')\n",
    "\t\n",
    "\tsorted_df = sort_dataset(data_df)\t\n",
    "\tX_train, X_test, Y_train, Y_test = split_dataset(sorted_df)\n",
    "\t\n",
    "\tX_train = extract_numerical_cols(X_train)\n",
    "\tX_test = extract_numerical_cols(X_test)\n",
    "\n",
    "\tdt_predictions = train_predict_decision_tree(X_train, Y_train, X_test)\n",
    "\trf_predictions = train_predict_random_forest(X_train, Y_train, X_test)\n",
    "\tsvm_predictions = train_predict_svm(X_train, Y_train, X_test)\n",
    "\t\n",
    "\tprint (\"Decision Tree Test RMSE: \", calculate_RMSE(Y_test, dt_predictions))\t\n",
    "\tprint (\"Random Forest Test RMSE: \", calculate_RMSE(Y_test, rf_predictions))\t\n",
    "\tprint (\"SVM Test RMSE: \", calculate_RMSE(Y_test, svm_predictions))"
   ]
  },
  {
   "cell_type": "code",
   "execution_count": null,
   "id": "4970b33f",
   "metadata": {},
   "outputs": [],
   "source": []
  },
  {
   "cell_type": "code",
   "execution_count": null,
   "id": "79ac544e",
   "metadata": {},
   "outputs": [],
   "source": []
  }
 ],
 "metadata": {
  "kernelspec": {
   "display_name": "Python 3 (ipykernel)",
   "language": "python",
   "name": "python3"
  },
  "language_info": {
   "codemirror_mode": {
    "name": "ipython",
    "version": 3
   },
   "file_extension": ".py",
   "mimetype": "text/x-python",
   "name": "python",
   "nbconvert_exporter": "python",
   "pygments_lexer": "ipython3",
   "version": "3.11.5"
  }
 },
 "nbformat": 4,
 "nbformat_minor": 5
}
